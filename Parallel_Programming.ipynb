{
 "cells": [
  {
   "cell_type": "code",
   "execution_count": 1,
   "id": "7a83a574",
   "metadata": {},
   "outputs": [],
   "source": [
    "import threading\n",
    "\n",
    "#function to print cube of given num\n",
    "def print_cube(num): \n",
    "    print(\"Cube: {}\".format(num * num * num))\n",
    "\n",
    "#function to print square of given num    \n",
    "def print_square(num):\n",
    "    print(\"Square: {}\".format(num * num)) "
   ]
  },
  {
   "cell_type": "code",
   "execution_count": 3,
   "id": "d1c694d9",
   "metadata": {},
   "outputs": [
    {
     "name": "stdout",
     "output_type": "stream",
     "text": [
      "Square: 100\n",
      "Cube: 1000\n",
      "Done!\n"
     ]
    }
   ],
   "source": [
    "if __name__ == \"__main__\":\n",
    "    t1 = threading.Thread(target=print_square, args=(10,))\n",
    "    t2 = threading.Thread(target=print_cube, args=(10,))\n",
    "    # starting thread 1\n",
    "    t1.start()\n",
    "    # starting thread 2\n",
    "    t2.start()\n",
    "    \n",
    "    # wait until thread 1 is completely executed\n",
    "    t1.join()\n",
    "    # wait until thread 2 is completely executed\n",
    "    t2.join()\n",
    "    # both threads completely executed\n",
    "    print(\"Done!\")"
   ]
  },
  {
   "cell_type": "code",
   "execution_count": 5,
   "id": "118eefac",
   "metadata": {},
   "outputs": [],
   "source": [
    "import threading\n",
    "import os\n",
    "\n",
    "def task1():\n",
    "    print(\"Task 1 assigned to thread: {}\".format(threading.current_thread().name))\n",
    "    print(\"ID of process running task 1: {}\".format(os.getpid())) \n",
    "\n",
    "def task2():\n",
    "    print(\"Task 2 assigned to thread: {}\".format(threading.current_thread().name))\n",
    "    print(\"ID of process running task 2: {}\".format(os.getpid()))"
   ]
  },
  {
   "cell_type": "code",
   "execution_count": 7,
   "id": "89980673",
   "metadata": {},
   "outputs": [
    {
     "name": "stdout",
     "output_type": "stream",
     "text": [
      "ID of process running main program: 12176\n",
      "Main thread name: MainThread\n",
      "Task 1 assigned to thread: t1\n",
      "ID of process running task 1: 12176\n",
      "Task 2 assigned to thread: t2\n",
      "ID of process running task 2: 12176\n"
     ]
    }
   ],
   "source": [
    "if __name__ == \"__main__\":\n",
    "    # print ID of current process\n",
    "    print(\"ID of process running main program: {}\".format(os.getpid()))\n",
    "    \n",
    "    # print name of main thread\n",
    "    print(\"Main thread name: {}\".format(threading.current_thread().name)) \n",
    "# creating threads\n",
    "    t1 = threading.Thread(target=task1, name='t1')\n",
    "    t2 = threading.Thread(target=task2, name='t2')\n",
    "    \n",
    "    # starting threads\n",
    "    t1.start()\n",
    "    t2.start()\n",
    "    \n",
    "    # wait until all threads finish\n",
    "    t1.join()\n",
    "    t2.join()"
   ]
  },
  {
   "cell_type": "code",
   "execution_count": 9,
   "id": "c4e01d2c",
   "metadata": {},
   "outputs": [
    {
     "name": "stdout",
     "output_type": "stream",
     "text": [
      "MainThread\n",
      "Child Thread\n",
      "22\n",
      "24\n",
      "26\n",
      "28\n",
      "30\n",
      "32\n",
      "34\n",
      "36\n",
      "38\n",
      "0\n",
      "2\n",
      "4\n",
      "6\n",
      "8\n",
      "10\n",
      "12\n",
      "14\n",
      "16\n",
      "18\n",
      "Executing thread name : MainThread\n"
     ]
    },
    {
     "name": "stderr",
     "output_type": "stream",
     "text": [
      "C:\\Users\\siva7\\AppData\\Local\\Temp\\ipykernel_12176\\1341311228.py:2: DeprecationWarning: getName() is deprecated, get the name attribute instead\n",
      "  print(current_thread().getName())\n",
      "C:\\Users\\siva7\\AppData\\Local\\Temp\\ipykernel_12176\\1341311228.py:15: DeprecationWarning: getName() is deprecated, get the name attribute instead\n",
      "  print(\"Executing thread name :\",current_thread().getName())\n"
     ]
    }
   ],
   "source": [
    "from threading import Thread,current_thread\n",
    "print(current_thread().getName())\n",
    "\n",
    "def mt():\n",
    "    print(\"Child Thread\")\n",
    "    for i in range(11,20):\n",
    "            print(i*2)\n",
    "            \n",
    "def disp():\n",
    "   for i in range(10):\n",
    "            print(i*2)\n",
    "       \n",
    "child=Thread(target=mt)\n",
    "child.start()\n",
    "disp()\n",
    "print(\"Executing thread name :\",current_thread().getName())"
   ]
  },
  {
   "cell_type": "code",
   "execution_count": 11,
   "id": "9581b8a3",
   "metadata": {},
   "outputs": [
    {
     "name": "stdout",
     "output_type": "stream",
     "text": [
      "Hi from child\n",
      "Hi from child\n",
      "Hi from child\n",
      "Hi from child\n",
      "Hi from child\n",
      "Hi from child\n",
      "Hi from child\n",
      "Bye from MainThread\n"
     ]
    },
    {
     "name": "stderr",
     "output_type": "stream",
     "text": [
      "C:\\Users\\siva7\\AppData\\Local\\Temp\\ipykernel_12176\\335775802.py:10: DeprecationWarning: getName() is deprecated, get the name attribute instead\n",
      "  print(\"Bye from\",current_thread().getName())\n"
     ]
    }
   ],
   "source": [
    "from threading import Thread,current_thread\n",
    "class mythread(Thread):\n",
    "    def run(self):\n",
    "        for x in range(7):\n",
    "            print(\"Hi from child\")\n",
    "            \n",
    "a = mythread()\n",
    "a.start()\n",
    "a.join()\n",
    "print(\"Bye from\",current_thread().getName())"
   ]
  },
  {
   "cell_type": "code",
   "execution_count": 13,
   "id": "690c03ed",
   "metadata": {},
   "outputs": [],
   "source": [
    "import threading\n",
    "x = 0     # A shared value\n",
    "COUNT = 20\n",
    "\n",
    "def incr():\n",
    "    global x\n",
    "    for i in range(COUNT):\n",
    "        x += 1\n",
    "        print(x)\n",
    "\n",
    "def decr():\n",
    "    global x\n",
    "    for i in range(COUNT):\n",
    "        x -= 1\n",
    "        print(x)"
   ]
  },
  {
   "cell_type": "code",
   "execution_count": 15,
   "id": "c7f1b0a9",
   "metadata": {},
   "outputs": [
    {
     "name": "stdout",
     "output_type": "stream",
     "text": [
      "1\n",
      "2\n",
      "3\n",
      "4\n",
      "5\n",
      "6\n",
      "7\n",
      "8\n",
      "9\n",
      "10\n",
      "11\n",
      "12\n",
      "13\n",
      "14\n",
      "15\n",
      "16\n",
      "17\n",
      "18\n",
      "19\n",
      "20\n",
      "19\n",
      "18\n",
      "17\n",
      "16\n",
      "15\n",
      "14\n",
      "13\n",
      "12\n",
      "11\n",
      "10\n",
      "9\n",
      "8\n",
      "7\n",
      "6\n",
      "5\n",
      "4\n",
      "3\n",
      "2\n",
      "1\n",
      "0\n",
      "0\n"
     ]
    }
   ],
   "source": [
    "t1 = threading.Thread(target=incr)\n",
    "t2 = threading.Thread(target=decr)\n",
    "t1.start()\n",
    "t2.start()\n",
    "t1.join()\n",
    "t2.join()\n",
    "print(x)"
   ]
  },
  {
   "cell_type": "code",
   "execution_count": 17,
   "id": "95aad932",
   "metadata": {},
   "outputs": [],
   "source": [
    "import threading\n",
    "x = 0     # A shared value\n",
    "COUNT = 20\n",
    "lock = threading.Lock()\n",
    "\n",
    "def incr():\n",
    "    global x\n",
    "    lock.acquire()\n",
    "    print(\"thread locked for increment cur x=\",x)\n",
    "    for i in range(COUNT):\n",
    "        x += 1\n",
    "        print(x)\n",
    "    lock.release()\n",
    "    print(\"thread release from increment cur x=\",x)"
   ]
  },
  {
   "cell_type": "code",
   "execution_count": 19,
   "id": "89d6f25f",
   "metadata": {},
   "outputs": [
    {
     "name": "stdout",
     "output_type": "stream",
     "text": [
      "thread locked for increment cur x= 0\n",
      "1\n",
      "2\n",
      "3\n",
      "4\n",
      "5\n",
      "6\n",
      "7\n",
      "8\n",
      "9\n",
      "10\n",
      "11\n",
      "12\n",
      "13\n",
      "14\n",
      "15\n",
      "16\n",
      "17\n",
      "18\n",
      "19\n",
      "20\n",
      "thread release from increment cur x= 20\n",
      "thread locked for decrement cur x= 20\n",
      "19\n",
      "18\n",
      "17\n",
      "16\n",
      "15\n",
      "14\n",
      "13\n",
      "12\n",
      "11\n",
      "10\n",
      "9\n",
      "8\n",
      "7\n",
      "6\n",
      "5\n",
      "4\n",
      "3\n",
      "2\n",
      "1\n",
      "0\n",
      "thread release from decrement cur x= 0\n"
     ]
    }
   ],
   "source": [
    "def decr():\n",
    "    global x\n",
    "    lock.acquire()\n",
    "    print(\"thread locked for decrement cur x=\",x)\n",
    "    for i in range(COUNT):\n",
    "        x -= 1\n",
    "        print(x)\n",
    "    lock.release()\n",
    "    print(\"thread release from decrement cur x=\",x)\n",
    "t1 = threading.Thread(target=incr)\n",
    "t2 = threading.Thread(target=decr)\n",
    "t1.start()\n",
    "t2.start()\n",
    "t1.join()\n",
    "t2.join()"
   ]
  },
  {
   "cell_type": "code",
   "execution_count": 21,
   "id": "43a6af37",
   "metadata": {},
   "outputs": [
    {
     "name": "stdout",
     "output_type": "stream",
     "text": [
      "0\n"
     ]
    }
   ],
   "source": [
    "import threading\n",
    "\n",
    "class Foo(object):\n",
    "    lock = threading.RLock()\n",
    "    def __init__(self):\n",
    "        self.x = 0\n",
    "    def add(self,n):\n",
    "        with Foo.lock:\n",
    "            self.x += n\n",
    "    def incr(self):\n",
    "        with Foo.lock:\n",
    "            self.add(1)\n",
    "    def decr(self):\n",
    "        with Foo.lock:\n",
    "            self.add(-1)\n",
    "\n",
    "\n",
    "def adder(f,count):\n",
    "    while count > 0:\n",
    "        f.incr()\n",
    "        count -= 1\n",
    "        \n",
    "def subber(f,count):\n",
    "    while count > 0:\n",
    "        f.decr()\n",
    "        count -= 1\n",
    "\n",
    "# Create some threads and make sure it works\n",
    "COUNT = 10\n",
    "f = Foo()\n",
    "\n",
    "t1 = threading.Thread(target=adder,args=(f,COUNT))\n",
    "t2 = threading.Thread(target=subber,args=(f,COUNT))\n",
    "\n",
    "t1.start()\n",
    "t2.start()\n",
    "t1.join()\n",
    "t2.join()\n",
    "print(f.x)\n"
   ]
  },
  {
   "cell_type": "raw",
   "id": "f0ab4fe2",
   "metadata": {},
   "source": [
    "Race condition is a significant problem in concurrent programming. The condition occurs when one thread tries to modify a shared resource at the same time that another thread is modifying that resource – this leads to garbled output, which is why threads need to be synchronized.\n",
    "\n",
    "The threading module of Python includes locks as a synchronization tool. A lock has two states:\n",
    "\n",
    "locked\n",
    "unlocked\n",
    "A lock can be locked using the acquire() method. Once a thread has acquired the lock, all subsequent attempts to acquire the lock are blocked until it is released. The lock can be released using the release() method.\n",
    "\n",
    "Calling the release() method on a lock, in an unlocked state, results in an error."
   ]
  },
  {
   "cell_type": "code",
   "execution_count": null,
   "id": "52627ea8",
   "metadata": {},
   "outputs": [],
   "source": []
  },
  {
   "cell_type": "code",
   "execution_count": null,
   "id": "e585a800",
   "metadata": {},
   "outputs": [],
   "source": []
  }
 ],
 "metadata": {
  "kernelspec": {
   "display_name": "Python 3 (ipykernel)",
   "language": "python",
   "name": "python3"
  },
  "language_info": {
   "codemirror_mode": {
    "name": "ipython",
    "version": 3
   },
   "file_extension": ".py",
   "mimetype": "text/x-python",
   "name": "python",
   "nbconvert_exporter": "python",
   "pygments_lexer": "ipython3",
   "version": "3.12.4"
  }
 },
 "nbformat": 4,
 "nbformat_minor": 5
}
