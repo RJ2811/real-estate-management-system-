{
 "cells": [
  {
   "cell_type": "markdown",
   "metadata": {
    "id": "YsaHub8Cjgv4"
   },
   "source": [
    "**Race condition** is a significant problem in concurrent programming. The condition occurs when one thread tries to modify a shared resource at the same time that another thread is modifying that resource – t​his leads to garbled output, which is why threads need to be synchronized.\n",
    "\n",
    "The threading module of Python includes **locks** as a synchronization tool. A lock has two states:\n",
    "\n",
    "locked\n",
    "unlocked\n",
    "A lock can be locked using the **acquire()** method. Once a thread has acquired the lock, all subsequent attempts to acquire the lock are blocked until it is released. The lock can be released using the **release()** method.\n",
    "\n",
    "**Note:** Calling the release() method on a lock, in an unlocked state, results in an error."
   ]
  },
  {
   "cell_type": "markdown",
   "metadata": {
    "id": "5pJ_O4M9kEi8"
   },
   "source": [
    "**Example**\n",
    "The following code shows how locks can be used in Python with a simple example:\n",
    "\n",
    "Suppose that there are 100 dollars in a bank account. Every month, 10 dollars are deposited as profit, and 10 dollars are deducted to pay a bill. **thread1** deposits the profit and **thread2** pays for the bill. In some months, the profit is deposited after the bill is paid. However, this should not affect the final amount in the account.\n",
    "\n",
    "**Race Condition**\n",
    "The final answer might be incorrect due to the race condition. There may be cases where a thread is unable to write the updated value to the shared variable deposit before the **context switch**, and the other thread reads a non-updated value; thus, leading to an **unpredictable result**.\n",
    "\n",
    "You may have to run the code several times to re-create the error."
   ]
  },
  {
   "cell_type": "code",
   "execution_count": 7,
   "metadata": {
    "colab": {
     "base_uri": "https://localhost:8080/"
    },
    "executionInfo": {
     "elapsed": 8,
     "status": "ok",
     "timestamp": 1678340981490,
     "user": {
      "displayName": "Sivakumar S",
      "userId": "04332186060573251169"
     },
     "user_tz": -330
    },
    "id": "7vk9s8jHkM4N",
    "outputId": "dfe638dc-414f-43fa-bba5-61522883ce47"
   },
   "outputs": [
    {
     "name": "stdout",
     "output_type": "stream",
     "text": [
      "Thread Deposit an amount : 110\n",
      "Thread Deposit an amount : 120\n",
      "Thread Deposit an amount : 130\n",
      "Thread Deposit an amount : 140\n",
      "Thread Deposit an amount : 150\n",
      "Thread Deposit an amount : 160\n",
      "Thread Deposit an amount : 170\n",
      "Thread Deposit an amount : 180\n",
      "Thread Deposit an amount : 190\n",
      "Thread Deposit an amount : 200\n",
      "Thread withdraw an amount : 190\n",
      "Thread withdraw an amount : 180\n",
      "Thread withdraw an amount : 170\n",
      "Thread withdraw an amount : 160\n",
      "Thread withdraw an amount : 150\n",
      "Thread withdraw an amount : 140\n",
      "Thread withdraw an amount : 130\n",
      "Thread withdraw an amount : 120\n",
      "Thread withdraw an amount : 110\n",
      "Thread withdraw an amount : 100\n",
      "100\n"
     ]
    }
   ],
   "source": [
    "# Importing the threading module\n",
    "import threading \n",
    "deposit = 100\n",
    "\n",
    "# Function to add profit to the deposit\n",
    "def add_profit(): \n",
    "    global deposit\n",
    "    for i in range(10):\n",
    "        deposit = deposit + 10\n",
    "        print(\"Thread Deposit an amount :\",deposit)\n",
    "\n",
    "# Function to deduct money from the deposit\n",
    "def pay_bill(): \n",
    "    global deposit\n",
    "    for i in range(10):\n",
    "        deposit = deposit - 10\n",
    "        print(\"Thread withdraw an amount :\",deposit)        \n",
    "\n",
    "# Creating threads\n",
    "thread1 = threading.Thread(target = add_profit, args = ())\n",
    "thread2 = threading.Thread(target = pay_bill, args = ())\n",
    "\n",
    "# Starting the threads\n",
    "thread1.start() \n",
    "thread2.start()\n",
    "\n",
    "# Waiting for both the threads to finish executing \n",
    "thread1.join()\n",
    "thread2.join()\n",
    "\n",
    "# Displaying the final value of the deposit\n",
    "print(deposit)"
   ]
  },
  {
   "cell_type": "markdown",
   "metadata": {
    "id": "-PqhOu45xre6"
   },
   "source": [
    "**Using a lock to solve the problem**\n",
    "The code between the **acquire()** and **release()** methods are executed automically so that there is no chance that a thread will read a non-updated version after another thread has already made a change."
   ]
  },
  {
   "cell_type": "code",
   "execution_count": 9,
   "metadata": {
    "colab": {
     "base_uri": "https://localhost:8080/"
    },
    "executionInfo": {
     "elapsed": 423,
     "status": "ok",
     "timestamp": 1678340981909,
     "user": {
      "displayName": "Sivakumar S",
      "userId": "04332186060573251169"
     },
     "user_tz": -330
    },
    "id": "pTp5BVTxx2gJ",
    "outputId": "a2372bc8-e2ab-490c-fffd-9c3df3f7ac06"
   },
   "outputs": [
    {
     "name": "stdout",
     "output_type": "stream",
     "text": [
      "Thread deposit an amount : 110\n",
      "Thread deposit an amount : 120\n",
      "Thread deposit an amount : 130\n",
      "Thread deposit an amount : 140\n",
      "Thread deposit an amount : 150\n",
      "Thread deposit an amount : 160\n",
      "Thread deposit an amount : 170\n",
      "Thread deposit an amount : 180\n",
      "Thread deposit an amount : 190\n",
      "Thread deposit an amount : 200\n",
      "Thread withdraw an amount : 190\n",
      "Thread withdraw an amount : 180\n",
      "Thread withdraw an amount : 170\n",
      "Thread withdraw an amount : 160\n",
      "Thread withdraw an amount : 150\n",
      "Thread withdraw an amount : 140\n",
      "Thread withdraw an amount : 130\n",
      "Thread withdraw an amount : 120\n",
      "Thread withdraw an amount : 110\n",
      "Thread withdraw an amount : 100\n",
      "100\n"
     ]
    }
   ],
   "source": [
    "# Importing the threading module\n",
    "import threading \n",
    "# Declraing a lock\n",
    "lock = threading.Lock()\n",
    "deposit = 100\n",
    "# Function to add profit to the deposit\n",
    "def add_profit(): \n",
    "    global deposit\n",
    "    for i in range(10):\n",
    "        lock.acquire()\n",
    "        deposit = deposit + 10\n",
    "        lock.release()\n",
    "        print(\"Thread deposit an amount :\",deposit)        \n",
    "# Function to deduct money from the deposit\n",
    "def pay_bill(): \n",
    "    global deposit\n",
    "    for i in range(10):\n",
    "        lock.acquire()\n",
    "        deposit = deposit - 10\n",
    "        lock.release()\n",
    "        print(\"Thread withdraw an amount :\",deposit)                \n",
    "\n",
    "# Creating threads\n",
    "thread1 = threading.Thread(target = add_profit, args = ())\n",
    "thread2 = threading.Thread(target = pay_bill, args = ())\n",
    "\n",
    "# Starting the threads  \n",
    "thread1.start() \n",
    "thread2.start() \n",
    "# Waiting for both the threads to finish executing \n",
    "thread1.join()\n",
    "thread2.join()\n",
    "# Displaying the final value of the deposit\n",
    "print(deposit)"
   ]
  },
  {
   "cell_type": "code",
   "execution_count": null,
   "metadata": {},
   "outputs": [],
   "source": []
  }
 ],
 "metadata": {
  "colab": {
   "authorship_tag": "ABX9TyNMVMkqPK1PziIsZkCUe3Oj",
   "provenance": []
  },
  "kernelspec": {
   "display_name": "Python 3 (ipykernel)",
   "language": "python",
   "name": "python3"
  },
  "language_info": {
   "codemirror_mode": {
    "name": "ipython",
    "version": 3
   },
   "file_extension": ".py",
   "mimetype": "text/x-python",
   "name": "python",
   "nbconvert_exporter": "python",
   "pygments_lexer": "ipython3",
   "version": "3.12.4"
  }
 },
 "nbformat": 4,
 "nbformat_minor": 4
}
