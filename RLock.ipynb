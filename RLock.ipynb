{
 "cells": [
  {
   "cell_type": "markdown",
   "metadata": {
    "id": "8G_Oxkiy8bBX"
   },
   "source": [
    "The default Lock doesn’t recognize which thread the lock currently holds. If the shared resource is being\n",
    "accessed by any thread then other threads trying to access the shared resource will get **blocked** even if it is the\n",
    "same thread that locked the shared resource. The **Re-entrant lock or RLock** is used in these situations to prevent\n",
    "undesired blocking from accessing the shared resource. If a shared resource is in RLock then it can be called\n",
    "again **safely**. The RLocked resource can be accessed repeatedly by various threads, though it still works correctly\n",
    "when called by different threads. Let us look at the below example to understand the use of RLocks:"
   ]
  },
  {
   "cell_type": "code",
   "execution_count": null,
   "metadata": {
    "colab": {
     "base_uri": "https://localhost:8080/",
     "height": 241
    },
    "executionInfo": {
     "elapsed": 3821,
     "status": "error",
     "timestamp": 1678341631242,
     "user": {
      "displayName": "Sivakumar S",
      "userId": "04332186060573251169"
     },
     "user_tz": -330
    },
    "id": "O_IgBcUa8pOH",
    "outputId": "61c78407-a944-4bb4-e51b-a1dd601ea4e0"
   },
   "outputs": [],
   "source": [
    "import threading\n",
    "# initializing the shared resource\n",
    "shared = 0\n",
    "\n",
    "# creating a Lock object\n",
    "lock = threading.Lock()\n",
    "\n",
    "# the below thread is accessing the\n",
    "# shared resource\n",
    "lock.acquire()\n",
    "shared = shared + 1\n",
    "\n",
    "# This thread will be blocked\n",
    "lock.acquire()\n",
    "shared = shared + 2\n",
    "lock.release()\n",
    "\n",
    "# displaying the value of shared resource\n",
    "print(shared)"
   ]
  },
  {
   "cell_type": "markdown",
   "metadata": {
    "id": "rmESAGv99SYW"
   },
   "source": [
    "In the above program, **two threads** are trying to access the shared resource shared simultaneously, here when a thread is currently accessing shared resource shared the other thread will be prevented from accessing it. When\n",
    "two or more threads try to access the same resource effectively prevent each other from accessing the resource\n",
    "this is known as deadlock due to which the above program generates no output. However, the above problem in\n",
    "the program can be solved by using **RLock**."
   ]
  },
  {
   "cell_type": "code",
   "execution_count": 1,
   "metadata": {
    "colab": {
     "base_uri": "https://localhost:8080/"
    },
    "executionInfo": {
     "elapsed": 427,
     "status": "ok",
     "timestamp": 1678341822611,
     "user": {
      "displayName": "Sivakumar S",
      "userId": "04332186060573251169"
     },
     "user_tz": -330
    },
    "id": "N9yuHpEm98S3",
    "outputId": "0844da82-45f2-48b4-abc6-7df1fde57f00"
   },
   "outputs": [
    {
     "name": "stdout",
     "output_type": "stream",
     "text": [
      "3\n"
     ]
    }
   ],
   "source": [
    "# program to illustrate the use of RLocks\n",
    "# importing the module\n",
    "import threading\n",
    "\n",
    "# initializing the shared resource\n",
    "shared = 0\n",
    "\n",
    "# creating an RLock object instead\n",
    "# of Lock object\n",
    "lock = threading.RLock()\n",
    "\n",
    "# the below thread is trying to access\n",
    "# the shared resource\n",
    "lock.acquire()\n",
    "shared = shared + 1\n",
    "\n",
    "# the below thread is trying to access\n",
    "# the shared resource\n",
    "lock.acquire()\n",
    "shared = shared + 2\n",
    "lock.release()\n",
    "lock.release()\n",
    "\n",
    "# displaying the value of shared resource\n",
    "print(shared)"
   ]
  },
  {
   "cell_type": "code",
   "execution_count": null,
   "metadata": {},
   "outputs": [],
   "source": []
  }
 ],
 "metadata": {
  "colab": {
   "authorship_tag": "ABX9TyNVFA3V5x46UC2lA1YT8Xeb",
   "provenance": []
  },
  "kernelspec": {
   "display_name": "Python 3 (ipykernel)",
   "language": "python",
   "name": "python3"
  },
  "language_info": {
   "codemirror_mode": {
    "name": "ipython",
    "version": 3
   },
   "file_extension": ".py",
   "mimetype": "text/x-python",
   "name": "python",
   "nbconvert_exporter": "python",
   "pygments_lexer": "ipython3",
   "version": "3.12.4"
  }
 },
 "nbformat": 4,
 "nbformat_minor": 4
}
